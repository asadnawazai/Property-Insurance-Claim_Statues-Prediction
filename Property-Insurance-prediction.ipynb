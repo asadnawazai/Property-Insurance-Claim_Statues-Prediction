{
  "nbformat": 4,
  "nbformat_minor": 0,
  "metadata": {
    "colab": {
      "provenance": [],
      "gpuType": "T4"
    },
    "kernelspec": {
      "name": "python3",
      "display_name": "Python 3"
    },
    "language_info": {
      "name": "python"
    },
    "accelerator": "GPU"
  },
  "cells": [
    {
      "cell_type": "code",
      "execution_count": 1,
      "metadata": {
        "id": "sDOAAC73wrQI"
      },
      "outputs": [],
      "source": [
        "from sklearn.model_selection import train_test_split, cross_val_score\n",
        "from sklearn.ensemble import RandomForestClassifier, GradientBoostingClassifier\n",
        "from sklearn.pipeline import Pipeline\n",
        "from sklearn.compose import ColumnTransformer\n",
        "from sklearn.preprocessing import StandardScaler, OneHotEncoder\n",
        "from sklearn.metrics import accuracy_score\n",
        "import pandas as pd"
      ]
    },
    {
      "cell_type": "code",
      "source": [
        "file_path = \"/content/synthetic_property_insurance_claims_dataset.csv\"\n",
        "df = pd.read_csv(file_path)"
      ],
      "metadata": {
        "id": "gVCqYL-3w0xT"
      },
      "execution_count": 2,
      "outputs": []
    },
    {
      "cell_type": "code",
      "source": [
        "missing_values = df.isnull().sum()"
      ],
      "metadata": {
        "id": "GtjhRLxBw00C"
      },
      "execution_count": 3,
      "outputs": []
    },
    {
      "cell_type": "code",
      "source": [
        "X = df.drop(\"claim_statues\", axis=1)\n",
        "y = df[\"claim_statues\"]"
      ],
      "metadata": {
        "id": "G7uauMInw7ft"
      },
      "execution_count": 4,
      "outputs": []
    },
    {
      "cell_type": "code",
      "source": [
        "numerical_features = [\"Claim_Amount\", \"Building_Age\", \"Repair_Estimate\", \"Policy_Coverage_Amount\", \"Amount_Paid\"]\n",
        "categorical_features = [\"Property_Type\", \"Property_Location\", \"Incident_Type\", \"Severity\", \"Building_Material\", \"Fraudulent\"]\n",
        "\n",
        "# Preprocessing pipeline\n",
        "preprocessor = ColumnTransformer(\n",
        "    transformers=[\n",
        "        (\"num\", StandardScaler(), numerical_features),\n",
        "        (\"cat\", OneHotEncoder(handle_unknown=\"ignore\"), categorical_features)\n",
        "    ]\n",
        ")\n",
        "\n",
        "# Try RandomForestClassifier with pipeline\n",
        "model_pipeline_rf = Pipeline(steps=[\n",
        "    (\"preprocessor\", preprocessor),\n",
        "    (\"classifier\", RandomForestClassifier(n_estimators=100, random_state=42))\n",
        "])"
      ],
      "metadata": {
        "id": "drk9YTicxBf6"
      },
      "execution_count": 5,
      "outputs": []
    },
    {
      "cell_type": "code",
      "source": [
        "X_train, X_test, y_train, y_test = train_test_split(X, y, test_size=0.2, random_state=42)"
      ],
      "metadata": {
        "id": "7r8VvNXexCc6"
      },
      "execution_count": 6,
      "outputs": []
    },
    {
      "cell_type": "code",
      "source": [
        "model_pipeline_rf.fit(X_train, y_train)\n",
        "y_pred_rf = model_pipeline_rf.predict(X_test)\n",
        "accuracy_rf = accuracy_score(y_test, y_pred_rf)"
      ],
      "metadata": {
        "id": "xrgKyjvVxHUh"
      },
      "execution_count": 7,
      "outputs": []
    },
    {
      "cell_type": "code",
      "source": [
        "model_pipeline_gb = Pipeline(steps=[\n",
        "    (\"preprocessor\", preprocessor),\n",
        "    (\"classifier\", GradientBoostingClassifier(n_estimators=100, random_state=42))\n",
        "])"
      ],
      "metadata": {
        "id": "fthKjQ5BxJ3h"
      },
      "execution_count": 8,
      "outputs": []
    },
    {
      "cell_type": "code",
      "source": [
        "model_pipeline_gb.fit(X_train, y_train)\n",
        "y_pred_gb = model_pipeline_gb.predict(X_test)\n",
        "accuracy_gb = accuracy_score(y_test, y_pred_gb)"
      ],
      "metadata": {
        "id": "uzTDofYhxMa5"
      },
      "execution_count": 9,
      "outputs": []
    },
    {
      "cell_type": "code",
      "source": [
        "print(\"Random Forest Accuracy:\", accuracy_rf)\n",
        "print(\"Gradient Boosting Accuracy:\", accuracy_gb)"
      ],
      "metadata": {
        "colab": {
          "base_uri": "https://localhost:8080/"
        },
        "id": "5GXRBBlfw03E",
        "outputId": "6a45adcf-1f74-4c97-844b-607284e5b526"
      },
      "execution_count": 10,
      "outputs": [
        {
          "output_type": "stream",
          "name": "stdout",
          "text": [
            "Random Forest Accuracy: 0.4982\n",
            "Gradient Boosting Accuracy: 0.5086\n"
          ]
        }
      ]
    },
    {
      "cell_type": "code",
      "source": [
        "import pickle\n",
        "\n",
        "with open(\"2nd-Gradient-Boosting.pkl\", \"wb\") as f:\n",
        "    pickle.dump(model_pipeline_gb, f)\n"
      ],
      "metadata": {
        "id": "EwFU0RRXxoli"
      },
      "execution_count": 12,
      "outputs": []
    },
    {
      "cell_type": "code",
      "source": [],
      "metadata": {
        "id": "-C6NuAaJyomL"
      },
      "execution_count": null,
      "outputs": []
    }
  ]
}